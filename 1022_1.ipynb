{
 "cells": [
  {
   "cell_type": "markdown",
   "metadata": {},
   "source": [
    "生命靈數＋星座分析"
   ]
  },
  {
   "cell_type": "code",
   "execution_count": 1,
   "metadata": {},
   "outputs": [
    {
     "name": "stdout",
     "output_type": "stream",
     "text": [
      "請輸入您的出生年月日(西元): ex:1998012919971018\n",
      "您的星座為天秤座\n",
      "生命密碼為9：有洞察力、成功機會高、貪心、消極、無原則\n"
     ]
    }
   ],
   "source": [
    "birth_d=input(\"請輸入您的出生年月日(西元): ex:19980129\")\n",
    "num0=int(birth_d[0])\n",
    "num1=int(birth_d[1])\n",
    "num2=int(birth_d[2])\n",
    "num3=int(birth_d[3])\n",
    "num4=int(birth_d[4])\n",
    "num5=int(birth_d[5])\n",
    "num6=int(birth_d[6])\n",
    "num7=int(birth_d[7])\n",
    "star=int(birth_d[4:8])\n",
    "if  119 >= star > 100 or 1231>= star > 1221:\n",
    "   print(\"您的星座為摩羯座\")\n",
    "else:\n",
    "    if 218 >= star > 119 :\n",
    "        print(\"您的星座為水瓶座\")\n",
    "    else:\n",
    "        if 320 >= star > 218 :\n",
    "            print(\"您的星座為雙魚座\")\n",
    "        else:\n",
    "            if 419 >= star > 320 :\n",
    "                print(\"您的星座為牡羊座\")\n",
    "            else:\n",
    "                if 520 >= star > 419 :\n",
    "                    print(\"您的星座為金牛座\")\n",
    "                else:\n",
    "                    if 620 >= star > 520 :\n",
    "                        print(\"您的星座為雙子座\")\n",
    "                    else:\n",
    "                        if 722 >= star > 620 :\n",
    "                            print(\"您的星座為巨蟹座\")\n",
    "                        else:\n",
    "                            if 822 >= star > 722 :\n",
    "                                print(\"您的星座為獅子座\")\n",
    "                            else:\n",
    "                                if 922 >= star > 822 :\n",
    "                                    print(\"您的星座為處女座\")\n",
    "                                else:\n",
    "                                    if 1022 >= star > 922 :\n",
    "                                        print(\"您的星座為天秤座\")\n",
    "                                    else:\n",
    "                                        if 1121 >= star > 1022 :\n",
    "                                            print(\"您的星座為天蠍座\")\n",
    "                                        else:\n",
    "                                            if 1221 >= star > 1121 :\n",
    "                                                print(\"您的星座為射手座\")\n",
    "\n",
    "\n",
    "total=(num0+num1+num2+num3+num4+num5+num6+num7)\n",
    "if total % 9 ==1:\n",
    "   print(\"生命密碼為1：獨立、自信、自負、自我\")\n",
    "else:\n",
    "   if total % 9 ==2:\n",
    "      print(\"生命密碼為2：溝通、合作、溫柔、猶豫不決\")\n",
    "   else:\n",
    "      if total % 9 == 3:\n",
    "         print(\"生命密碼為3：行動力、快速、衝動\")\n",
    "      else:\n",
    "         if total % 9 == 4:\n",
    "            print(\"生命密碼為4：做事有條理、穩定、保守、直接、死板\")\n",
    "         else:\n",
    "            if total % 9 == 5:\n",
    "                print(\"生命密碼為5：有目標、幽默、喜歡多采多姿的生活、固執\")\n",
    "            else:\n",
    "               if total % 9 == 6:\n",
    "                  print(\"生命密碼為6：有遠見、智慧、追求完美、浪費\")\n",
    "               else:\n",
    "                  if total % 9 == 7:\n",
    "                     print(\"生命密碼為7：博學、學習力強、拖延、冷漠\")\n",
    "                  else:\n",
    "                     if total % 9 == 8:\n",
    "                        print(\"生命密碼為8：責任、野心、壓力、忙碌、慾望\")\n",
    "                     else:\n",
    "                        if total % 9 == 0:\n",
    "                           print(\"生命密碼為9：有洞察力、成功機會高、貪心、消極、無原則\")"
   ]
  },
  {
   "cell_type": "code",
   "execution_count": null,
   "metadata": {},
   "outputs": [],
   "source": []
  }
 ],
 "metadata": {
  "kernelspec": {
   "display_name": "Python 3",
   "language": "python",
   "name": "python3"
  },
  "language_info": {
   "codemirror_mode": {
    "name": "ipython",
    "version": 3
   },
   "file_extension": ".py",
   "mimetype": "text/x-python",
   "name": "python",
   "nbconvert_exporter": "python",
   "pygments_lexer": "ipython3",
   "version": "3.6.4"
  }
 },
 "nbformat": 4,
 "nbformat_minor": 2
}
