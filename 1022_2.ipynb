{
 "cells": [
  {
   "cell_type": "markdown",
   "metadata": {},
   "source": [
    "# NPV 現值計算\n",
    "在財務中，折現的概念很重要，因為金錢價值會隨著時間改變，所以當我們要比較金錢的價值時，需要將不同時期的金額全部折現到同一個時間點才能做比較。 例：小珈想在未來一年存到1,000元，假設年利率為6%，半年複利一次(實質利率為6%/2=3%)，則小珈現在至少應投入1000/(1+3%)^2=943元，這就是將未來1000元折現成現在的價值。 數學式如下： NPV(現值) = CF0 / (1 + R )^0 + CF1 / (1 + R)^1 + CF2 / (1 + R)^2 +．．． 其中CFn是第n期的現金流入或流出(像是第0期時，所投入的資金就是資金流出，數字上是負的) R是該投資組合的實質報酬率。 舉例： 投資28,500元，第一年(第1期)可拿回14,500元，第二年拿回12,900元，第三年拿回15,300元，第四年拿回10,900元，實質報酬率為12%。 請寫出一個程式，讓使用者輸入現金流量，再算出各個投資組合的現值(NPV)，無條件進位到整數，並由高到低印出，再印出最好的投資組合(NPV最高)。"
   ]
  },
  {
   "cell_type": "code",
   "execution_count": 1,
   "metadata": {},
   "outputs": [
    {
     "name": "stdout",
     "output_type": "stream",
     "text": [
      "請輸入要比較幾筆投資：2\n",
      "請輸入cf0（通常是負的！）:-1000\n",
      "請輸入cf1:1020\n",
      "請輸入cf2:1200\n",
      "請輸入cf3:8820\n",
      "請輸入cf4:1002\n",
      "請輸入實質報酬率(請以0.xx形式):0.97\n",
      "\n",
      "請輸入cf0（通常是負的！）:-1000\n",
      "請輸入cf1:1000\n",
      "請輸入cf2:1000\n",
      "請輸入cf3:1000\n",
      "請輸入cf4:1000\n",
      "請輸入實質報酬率(請以0.xx形式):0.5\n",
      "\n",
      "NPV依序由第1筆到第2筆為： [1047, 604]\n",
      "但由高到低依序為： [1047, 604]\n",
      "最大的NPV為 1047\n"
     ]
    }
   ],
   "source": [
    "count = int(input('請輸入要比較幾筆投資：'))\n",
    "i=0\n",
    "npvs=[]\n",
    "while i<(count):\n",
    "    cf0=float(input('請輸入cf0（通常是負的！）:'))\n",
    "    cf1=float(input('請輸入cf1:'))\n",
    "    cf2=float(input('請輸入cf2:'))\n",
    "    cf3=float(input('請輸入cf3:'))\n",
    "    cf4=float(input('請輸入cf4:'))\n",
    "    r=float(input('請輸入實質報酬率(請以0.xx形式):'))\n",
    "    npv = int(cf0/((1+r)**0)+cf1/((1+r)**1)+cf2/((1+r)**2)+cf3/((1+r)**3)+cf4/((1+r)**4))\n",
    "    npvs.append(npv)\n",
    "    print(\"\")\n",
    "    i+=1\n",
    "\n",
    "print ('NPV依序由第1筆到第{}筆為：'.format(count),npvs)\n",
    "npvsR=npvs.sort(reverse=True)\n",
    "print ('但由高到低依序為：',npvs)\n",
    "print ('最大的NPV為',max(npvs))    "
   ]
  },
  {
   "cell_type": "code",
   "execution_count": null,
   "metadata": {},
   "outputs": [],
   "source": []
  }
 ],
 "metadata": {
  "kernelspec": {
   "display_name": "Python 3",
   "language": "python",
   "name": "python3"
  },
  "language_info": {
   "codemirror_mode": {
    "name": "ipython",
    "version": 3
   },
   "file_extension": ".py",
   "mimetype": "text/x-python",
   "name": "python",
   "nbconvert_exporter": "python",
   "pygments_lexer": "ipython3",
   "version": "3.6.4"
  }
 },
 "nbformat": 4,
 "nbformat_minor": 2
}
